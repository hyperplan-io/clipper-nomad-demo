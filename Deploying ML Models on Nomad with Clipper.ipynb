{
 "cells": [
  {
   "cell_type": "markdown",
   "metadata": {},
   "source": [
    "For a more detailed guide refer to `tensorflow` or `pytorch` example or to the documentation on https://clipper.ai.\n",
    "This example uses `matplotlib`, in case you cannot use it, please comment out respective 2 cells - 7 & 8"
   ]
  },
  {
   "cell_type": "code",
   "execution_count": 113,
   "metadata": {},
   "outputs": [],
   "source": [
    "# Imports related to ML\n",
    "from sklearn.linear_model import LinearRegression\n",
    "from sklearn import datasets\n",
    "from joblib import dump, load\n",
    "import numpy as np"
   ]
  },
  {
   "cell_type": "code",
   "execution_count": 104,
   "metadata": {},
   "outputs": [],
   "source": [
    "# Imports related to Clipper\n",
    "from clipper_admin.deployers import python as python_deployer\n",
    "from clipper_admin.deployers import pytorch as pytorch_deployer\n",
    "\n",
    "from clipper_admin import ClipperConnection, DockerContainerManager, NomadContainerManager, ConsulDNS"
   ]
  },
  {
   "cell_type": "code",
   "execution_count": 123,
   "metadata": {},
   "outputs": [],
   "source": [
    "CLIPPER_APP_1_NAME='test-app-1'\n",
    "CLIPPER_APP_2_NAME='test-app-2'\n",
    "\n",
    "container_registry = 'rg.fr-par.scw.cloud/hyperplan'\n",
    "\n",
    "def get_clipper_connection():\n",
    "    nomad_ip_addr = '10.65.30.43'\n",
    "    dns = ConsulDNS() # We use Consul for DNS resolution\n",
    "    container_manager = NomadContainerManager(\n",
    "        nomad_ip=nomad_ip_addr,\n",
    "        dns=dns\n",
    "    )\n",
    "    clipper_conn = ClipperConnection(container_manager)\n",
    "    clipper_conn.connect()\n",
    "    return clipper_conn\n",
    "\n",
    "def train_sklearn(X, y):\n",
    "    clf = svm.SVC(gamma=0.001, C=100.)\n",
    "    clf.fit(X, y)\n",
    "    return clf\n",
    "\n",
    "\n",
    "def deploy_all():\n",
    "    conn = get_connection()\n",
    "    conn.connect()\n",
    "        \n",
    "def create_clipper_application(name):\n",
    "    clipper_connection.register_application(\n",
    "        name=name, \n",
    "        input_type=\"doubles\", \n",
    "        default_output=\"-1.0\", \n",
    "        slo_micros=10000000\n",
    "    )\n",
    "    \n",
    "def deploy_sklearn(clipper_connection, clf, name, version):\n",
    "    python_deployer.deploy_python_closure(clipper_connection, name=name, \n",
    "        version=version, \n",
    "        input_type=\"doubles\", \n",
    "        func=clf.predict,\n",
    "        pkgs_to_install=['scikit-learn'],\n",
    "        registry=container_registry\n",
    "    )\n",
    "    \n",
    "    \n",
    "def pytorch_func(model, inputs):\n",
    "    return [model(x).tolist() for x in torch.Tensor(inputs)]\n",
    "\n",
    "def deploy_pytorch(clipper_connection, model, name, version):\n",
    "    pytorch_deployer.deploy_pytorch_model(clipper_connection, name=name, \n",
    "        version=version, \n",
    "        input_type=\"doubles\", \n",
    "        func=pytorch_func,\n",
    "        pytorch_model=model,\n",
    "        registry=container_registry\n",
    "    )"
   ]
  },
  {
   "cell_type": "code",
   "execution_count": 99,
   "metadata": {},
   "outputs": [],
   "source": [
    "# Load a dataset\n",
    "diabetes = datasets.load_diabetes() # load data"
   ]
  },
  {
   "cell_type": "code",
   "execution_count": 100,
   "metadata": {
    "scrolled": true
   },
   "outputs": [
    {
     "data": {
      "text/plain": [
       "(442, 10)"
      ]
     },
     "execution_count": 100,
     "metadata": {},
     "output_type": "execute_result"
    }
   ],
   "source": [
    "diabetes.data.shape # feature matrix shape"
   ]
  },
  {
   "cell_type": "markdown",
   "metadata": {},
   "source": [
    "# Train Scikit Learn Model"
   ]
  },
  {
   "cell_type": "code",
   "execution_count": 101,
   "metadata": {
    "scrolled": true
   },
   "outputs": [
    {
     "data": {
      "text/plain": [
       "0.33222203269065176"
      ]
     },
     "execution_count": 101,
     "metadata": {},
     "output_type": "execute_result"
    }
   ],
   "source": [
    "# Seperate train and test data\n",
    "from sklearn.model_selection import train_test_split\n",
    "X_train, X_test, y_train, y_test = train_test_split(diabetes.data, diabetes.target, test_size=0.2, random_state=0)\n",
    "model = LinearRegression()\n",
    "model.fit(X_train, y_train)\n",
    "model.score(X_test, y_test)"
   ]
  },
  {
   "cell_type": "code",
   "execution_count": 7,
   "metadata": {
    "scrolled": true
   },
   "outputs": [
    {
     "data": {
      "text/plain": [
       "array([238.47145247, 248.93170646, 164.05404165, 120.30794355,\n",
       "       187.42422054, 259.04865002, 113.55556372, 188.07597044,\n",
       "       149.49663441, 236.01099949, 172.24629506, 178.88073764,\n",
       "       109.15751983,  92.13508975, 243.33042043,  87.356971  ,\n",
       "       155.72606406,  66.99073989, 100.42610442, 218.09422877,\n",
       "       196.66287912, 161.29832968, 161.70779605, 156.52520454,\n",
       "       197.88796516, 167.57984206, 120.74478913,  84.83879727,\n",
       "       192.03728687, 160.60687024, 175.17178362,  84.22833237,\n",
       "       145.7995542 , 145.97333493, 140.96488953, 197.00421108,\n",
       "       165.94322494, 190.65906468, 128.22520508, 206.41941223,\n",
       "        84.35851196, 164.0256504 , 144.1056776 , 184.68355549,\n",
       "       177.80238966,  74.32855231, 143.3660286 , 138.67726085,\n",
       "       120.81146113, 234.34252077, 161.94390244,  74.5455476 ,\n",
       "       154.71905074, 156.78884927, 237.42227096, 174.23053048,\n",
       "       190.88212635, 118.98373473, 132.20418974, 168.52674824,\n",
       "       214.74245466, 171.42364091, 157.37409906, 108.86927343,\n",
       "       257.06329636, 152.17777143,  82.43686464, 231.56746032,\n",
       "       202.90641336,  47.18340199,  78.46954525, 129.30170908,\n",
       "       104.60253144, 144.65200281, 132.27974254, 190.04134164,\n",
       "        97.55541138, 197.51891007, 219.13709291, 186.13797012,\n",
       "       149.60913007, 208.42379455,  44.59036026, 206.20925368,\n",
       "        76.77377721,  94.94046865, 145.2955051 , 194.03776373,\n",
       "       132.78534336])"
      ]
     },
     "execution_count": 7,
     "metadata": {},
     "output_type": "execute_result"
    }
   ],
   "source": [
    "model.predict(X_test) # Predict unkown data"
   ]
  },
  {
   "cell_type": "markdown",
   "metadata": {},
   "source": [
    "# Train PyTorch"
   ]
  },
  {
   "cell_type": "code",
   "execution_count": 115,
   "metadata": {},
   "outputs": [
    {
     "name": "stderr",
     "output_type": "stream",
     "text": [
      "/Users/antoine/miniconda3/lib/python3.7/site-packages/torch/nn/modules/loss.py:431: UserWarning: Using a target size (torch.Size([353])) that is different to the input size (torch.Size([353, 1])). This will likely lead to incorrect results due to broadcasting. Please ensure they have the same size.\n",
      "  return F.mse_loss(input, target, reduction=self.reduction)\n"
     ]
    },
    {
     "name": "stdout",
     "output_type": "stream",
     "text": [
      "99 6130.69873046875\n",
      "199 6130.69873046875\n",
      "299 6130.69873046875\n",
      "399 6130.69873046875\n",
      "499 6130.6982421875\n"
     ]
    }
   ],
   "source": [
    "import torch\n",
    "\n",
    "# We train a simple Neural Network\n",
    "\n",
    "# N is batch size; D_in is input dimension;\n",
    "# H is hidden dimension; D_out is output dimension.\n",
    "N, D_in, H, D_out = 1, 10, 5, 1\n",
    "\n",
    "pytorch_model = torch.nn.Sequential(\n",
    "    torch.nn.Linear(D_in, D_out)\n",
    ")\n",
    "\n",
    "loss_fn = torch.nn.MSELoss()\n",
    "\n",
    "learning_rate = 1e-1\n",
    "for t in range(500):\n",
    "    y_pred = pytorch_model(torch.Tensor(X_train))\n",
    "    loss = loss_fn(y_pred, torch.Tensor(y_train))\n",
    "    if t % 100 == 99:\n",
    "        print(t, loss.item())\n",
    "    pytorch_model.zero_grad()\n",
    "\n",
    "    loss.backward()\n",
    "    with torch.no_grad():\n",
    "        for param in pytorch_model.parameters():\n",
    "            param -= learning_rate * param.grad"
   ]
  },
  {
   "cell_type": "code",
   "execution_count": 116,
   "metadata": {},
   "outputs": [
    {
     "data": {
      "text/plain": [
       "tensor([[151.5620],\n",
       "        [151.5653],\n",
       "        [151.6129],\n",
       "        [151.6360],\n",
       "        [151.5405],\n",
       "        [151.5629],\n",
       "        [151.6113],\n",
       "        [151.5931],\n",
       "        [151.5957],\n",
       "        [151.5638],\n",
       "        [151.6361],\n",
       "        [151.6373],\n",
       "        [151.6411],\n",
       "        [151.6518],\n",
       "        [151.6001],\n",
       "        [151.5846],\n",
       "        [151.5803],\n",
       "        [151.6217],\n",
       "        [151.5939],\n",
       "        [151.5944],\n",
       "        [151.5695],\n",
       "        [151.5972],\n",
       "        [151.6085],\n",
       "        [151.5949],\n",
       "        [151.5914],\n",
       "        [151.5977],\n",
       "        [151.5436],\n",
       "        [151.6143],\n",
       "        [151.5639],\n",
       "        [151.6114],\n",
       "        [151.5707],\n",
       "        [151.6295],\n",
       "        [151.5873],\n",
       "        [151.5984],\n",
       "        [151.6254],\n",
       "        [151.5961],\n",
       "        [151.6233],\n",
       "        [151.6345],\n",
       "        [151.6017],\n",
       "        [151.5857],\n",
       "        [151.6507],\n",
       "        [151.5903],\n",
       "        [151.6137],\n",
       "        [151.6220],\n",
       "        [151.6250],\n",
       "        [151.6567],\n",
       "        [151.5832],\n",
       "        [151.5680],\n",
       "        [151.6223],\n",
       "        [151.5500],\n",
       "        [151.6290],\n",
       "        [151.6118],\n",
       "        [151.5611],\n",
       "        [151.6416],\n",
       "        [151.5580],\n",
       "        [151.5966],\n",
       "        [151.6078],\n",
       "        [151.5783],\n",
       "        [151.6416],\n",
       "        [151.5880],\n",
       "        [151.5913],\n",
       "        [151.5845],\n",
       "        [151.6615],\n",
       "        [151.6184],\n",
       "        [151.5969],\n",
       "        [151.5503],\n",
       "        [151.6428],\n",
       "        [151.6390],\n",
       "        [151.6061],\n",
       "        [151.5882],\n",
       "        [151.6100],\n",
       "        [151.6097],\n",
       "        [151.6464],\n",
       "        [151.6216],\n",
       "        [151.5930],\n",
       "        [151.5974],\n",
       "        [151.6456],\n",
       "        [151.5604],\n",
       "        [151.6130],\n",
       "        [151.5547],\n",
       "        [151.5833],\n",
       "        [151.6074],\n",
       "        [151.6291],\n",
       "        [151.5915],\n",
       "        [151.6392],\n",
       "        [151.6223],\n",
       "        [151.5636],\n",
       "        [151.6155],\n",
       "        [151.5916]], grad_fn=<AddmmBackward>)"
      ]
     },
     "execution_count": 116,
     "metadata": {},
     "output_type": "execute_result"
    }
   ],
   "source": [
    "pytorch_model(torch.Tensor(X_test)) # Predict unkown data"
   ]
  },
  {
   "cell_type": "code",
   "execution_count": 102,
   "metadata": {},
   "outputs": [
    {
     "name": "stderr",
     "output_type": "stream",
     "text": [
      "19-10-22:11:02:13 INFO     [clipper_admin.py:172] [default-cluster] Successfully connected to Clipper cluster at \n"
     ]
    }
   ],
   "source": [
    "# Retrieve a connection to Clipper\n",
    "clipper_connection = get_clipper_connection()"
   ]
  },
  {
   "cell_type": "code",
   "execution_count": 106,
   "metadata": {
    "scrolled": true
   },
   "outputs": [
    {
     "name": "stderr",
     "output_type": "stream",
     "text": [
      "19-10-22:11:07:48 INFO     [clipper_admin.py:236] [default-cluster] Application test-app-1 was successfully registered\n",
      "19-10-22:11:07:48 INFO     [deployer_utils.py:41] Saving function to /var/folders/k0/gp0mgjf54ml_rr6bx2c_h7bw0000gn/T/tmpny6my18lclipper\n",
      "19-10-22:11:07:48 INFO     [deployer_utils.py:51] Serialized and supplied predict function\n",
      "19-10-22:11:07:48 INFO     [python.py:192] Python closure saved\n",
      "19-10-22:11:07:48 INFO     [python.py:210] Using Python 3.7 base image\n",
      "19-10-22:11:07:48 INFO     [clipper_admin.py:537] [default-cluster] Building model Docker image with model data from /var/folders/k0/gp0mgjf54ml_rr6bx2c_h7bw0000gn/T/tmpny6my18lclipper\n",
      "19-10-22:11:07:49 INFO     [clipper_admin.py:542] [default-cluster] Step 1/3 : FROM clipper/python37-closure-container:develop\n",
      "19-10-22:11:07:49 INFO     [clipper_admin.py:542] [default-cluster]  ---> 2660542c0759\n",
      "19-10-22:11:07:49 INFO     [clipper_admin.py:542] [default-cluster] Step 2/3 : RUN apt-get -y install build-essential && pip install scikit-learn\n",
      "19-10-22:11:07:49 INFO     [clipper_admin.py:542] [default-cluster]  ---> Using cache\n",
      "19-10-22:11:07:49 INFO     [clipper_admin.py:542] [default-cluster]  ---> e4ed43722d3c\n",
      "19-10-22:11:07:49 INFO     [clipper_admin.py:542] [default-cluster] Step 3/3 : COPY /var/folders/k0/gp0mgjf54ml_rr6bx2c_h7bw0000gn/T/tmpny6my18lclipper /model/\n",
      "19-10-22:11:07:49 INFO     [clipper_admin.py:542] [default-cluster]  ---> 73476c164c71\n",
      "19-10-22:11:07:49 INFO     [clipper_admin.py:542] [default-cluster] Successfully built 73476c164c71\n",
      "19-10-22:11:07:49 INFO     [clipper_admin.py:542] [default-cluster] Successfully tagged rg.fr-par.scw.cloud/hyperplan/default-cluster-scikit-learn-model:1\n",
      "19-10-22:11:07:49 INFO     [clipper_admin.py:544] [default-cluster] Pushing model Docker image to rg.fr-par.scw.cloud/hyperplan/default-cluster-scikit-learn-model:1\n",
      "19-10-22:11:08:08 WARNING  [nomad_container_manager.py:264] [default-cluster] DNS query failed: None of DNS query names exist: clipper-default-cluster-model-scikit-learn-model-1.service.consul., clipper-default-cluster-model-scikit-learn-model-1.service.consul.home.\n",
      "19-10-22:11:08:11 WARNING  [nomad_container_manager.py:264] [default-cluster] DNS query failed: None of DNS query names exist: clipper-default-cluster-model-scikit-learn-model-1.service.consul., clipper-default-cluster-model-scikit-learn-model-1.service.consul.home.\n",
      "19-10-22:11:08:14 WARNING  [nomad_container_manager.py:264] [default-cluster] DNS query failed: None of DNS query names exist: clipper-default-cluster-model-scikit-learn-model-1.service.consul., clipper-default-cluster-model-scikit-learn-model-1.service.consul.home.\n",
      "19-10-22:11:08:17 WARNING  [nomad_container_manager.py:264] [default-cluster] DNS query failed: None of DNS query names exist: clipper-default-cluster-model-scikit-learn-model-1.service.consul., clipper-default-cluster-model-scikit-learn-model-1.service.consul.home.\n",
      "19-10-22:11:08:20 WARNING  [nomad_container_manager.py:264] [default-cluster] DNS query failed: None of DNS query names exist: clipper-default-cluster-model-scikit-learn-model-1.service.consul., clipper-default-cluster-model-scikit-learn-model-1.service.consul.home.\n",
      "19-10-22:11:08:23 WARNING  [nomad_container_manager.py:264] [default-cluster] DNS query failed: None of DNS query names exist: clipper-default-cluster-model-scikit-learn-model-1.service.consul., clipper-default-cluster-model-scikit-learn-model-1.service.consul.home.\n",
      "19-10-22:11:08:26 INFO     [nomad_container_manager.py:262] [default-cluster] Clipper model is at 10.65.30.43:30855\n",
      "19-10-22:11:08:27 INFO     [clipper_admin.py:727] [default-cluster] Successfully registered model scikit-learn-model:1\n",
      "19-10-22:11:08:27 INFO     [clipper_admin.py:645] [default-cluster] Done deploying model scikit-learn-model:1.\n"
     ]
    }
   ],
   "source": [
    "# Deploy Scikit-Learn\n",
    "create_clipper_application(CLIPPER_APP_1_NAME)\n",
    "sklearn_model_name = 'scikit-learn-model'\n",
    "# Deploy to production but do not serve\n",
    "deploy_sklearn(clipper_connection, model, name=sklearn_model_name, version=1)\n",
    "# Link and serve !\n",
    "#clipper_connection.link_model_to_app(app_name=CLIPPER_APP_1_NAME, model_name=sklearn_model_name)"
   ]
  },
  {
   "cell_type": "code",
   "execution_count": 18,
   "metadata": {},
   "outputs": [
    {
     "name": "stderr",
     "output_type": "stream",
     "text": [
      "19-10-17:11:02:43 INFO     [clipper_admin.py:303] [default-cluster] Model scikit-learn-model is now linked to application test-app-1\n"
     ]
    }
   ],
   "source": []
  },
  {
   "cell_type": "code",
   "execution_count": 124,
   "metadata": {
    "scrolled": false
   },
   "outputs": [
    {
     "name": "stderr",
     "output_type": "stream",
     "text": [
      "19-10-22:11:57:46 INFO     [deployer_utils.py:41] Saving function to /var/folders/k0/gp0mgjf54ml_rr6bx2c_h7bw0000gn/T/tmpdi2q9b79clipper\n",
      "19-10-22:11:57:46 INFO     [deployer_utils.py:51] Serialized and supplied predict function\n",
      "19-10-22:11:57:46 INFO     [pytorch.py:204] Torch model saved\n",
      "19-10-22:11:57:46 INFO     [pytorch.py:222] Using Python 3.7 base image\n",
      "19-10-22:11:57:46 INFO     [clipper_admin.py:537] [default-cluster] Building model Docker image with model data from /var/folders/k0/gp0mgjf54ml_rr6bx2c_h7bw0000gn/T/tmpdi2q9b79clipper\n",
      "19-10-22:11:57:47 INFO     [clipper_admin.py:542] [default-cluster] Step 1/2 : FROM clipper/pytorch37-container:develop\n",
      "19-10-22:11:57:47 INFO     [clipper_admin.py:542] [default-cluster]  ---> 62eb5cc2807e\n",
      "19-10-22:11:57:47 INFO     [clipper_admin.py:542] [default-cluster] Step 2/2 : COPY /var/folders/k0/gp0mgjf54ml_rr6bx2c_h7bw0000gn/T/tmpdi2q9b79clipper /model/\n",
      "19-10-22:11:57:47 INFO     [clipper_admin.py:542] [default-cluster]  ---> 5e0bc80e4cb6\n",
      "19-10-22:11:57:47 INFO     [clipper_admin.py:542] [default-cluster] Successfully built 5e0bc80e4cb6\n",
      "19-10-22:11:57:47 INFO     [clipper_admin.py:542] [default-cluster] Successfully tagged rg.fr-par.scw.cloud/hyperplan/default-cluster-pytorch-alg-2:6\n",
      "19-10-22:11:57:47 INFO     [clipper_admin.py:544] [default-cluster] Pushing model Docker image to rg.fr-par.scw.cloud/hyperplan/default-cluster-pytorch-alg-2:6\n",
      "19-10-22:11:58:04 WARNING  [nomad_container_manager.py:264] [default-cluster] DNS query failed: None of DNS query names exist: clipper-default-cluster-model-pytorch-alg-2-6.service.consul., clipper-default-cluster-model-pytorch-alg-2-6.service.consul.home.\n",
      "19-10-22:11:58:07 WARNING  [nomad_container_manager.py:264] [default-cluster] DNS query failed: None of DNS query names exist: clipper-default-cluster-model-pytorch-alg-2-6.service.consul., clipper-default-cluster-model-pytorch-alg-2-6.service.consul.home.\n",
      "19-10-22:11:58:11 WARNING  [nomad_container_manager.py:264] [default-cluster] DNS query failed: None of DNS query names exist: clipper-default-cluster-model-pytorch-alg-2-6.service.consul., clipper-default-cluster-model-pytorch-alg-2-6.service.consul.home.\n",
      "19-10-22:11:58:14 WARNING  [nomad_container_manager.py:264] [default-cluster] DNS query failed: None of DNS query names exist: clipper-default-cluster-model-pytorch-alg-2-6.service.consul., clipper-default-cluster-model-pytorch-alg-2-6.service.consul.home.\n",
      "19-10-22:11:58:17 INFO     [nomad_container_manager.py:262] [default-cluster] Clipper model is at 10.65.106.15:26697\n",
      "19-10-22:11:58:17 INFO     [clipper_admin.py:727] [default-cluster] Successfully registered model pytorch-alg-2:6\n",
      "19-10-22:11:58:17 INFO     [clipper_admin.py:645] [default-cluster] Done deploying model pytorch-alg-2:6.\n",
      "19-10-22:11:58:17 ERROR    [clipper_admin.py:298] [default-cluster] Received error status code: 400 and message: The model with name 'pytorch-alg-2' is already linked to 'test-app-2'\n"
     ]
    },
    {
     "ename": "ClipperException",
     "evalue": "Received error status code: 400 and message: The model with name 'pytorch-alg-2' is already linked to 'test-app-2'",
     "output_type": "error",
     "traceback": [
      "\u001b[0;31m---------------------------------------------------------------------------\u001b[0m",
      "\u001b[0;31mClipperException\u001b[0m                          Traceback (most recent call last)",
      "\u001b[0;32m<ipython-input-124-d3e70854c39f>\u001b[0m in \u001b[0;36m<module>\u001b[0;34m\u001b[0m\n\u001b[1;32m      5\u001b[0m \u001b[0mdeploy_pytorch\u001b[0m\u001b[0;34m(\u001b[0m\u001b[0mclipper_connection\u001b[0m\u001b[0;34m,\u001b[0m \u001b[0mpytorch_model\u001b[0m\u001b[0;34m,\u001b[0m \u001b[0mname\u001b[0m\u001b[0;34m=\u001b[0m\u001b[0mpytorch_model_name\u001b[0m\u001b[0;34m,\u001b[0m \u001b[0mversion\u001b[0m\u001b[0;34m=\u001b[0m\u001b[0;36m6\u001b[0m\u001b[0;34m)\u001b[0m\u001b[0;34m\u001b[0m\u001b[0;34m\u001b[0m\u001b[0m\n\u001b[1;32m      6\u001b[0m \u001b[0;31m# Link and serve !\u001b[0m\u001b[0;34m\u001b[0m\u001b[0;34m\u001b[0m\u001b[0;34m\u001b[0m\u001b[0m\n\u001b[0;32m----> 7\u001b[0;31m \u001b[0mclipper_connection\u001b[0m\u001b[0;34m.\u001b[0m\u001b[0mlink_model_to_app\u001b[0m\u001b[0;34m(\u001b[0m\u001b[0mapp_name\u001b[0m\u001b[0;34m=\u001b[0m\u001b[0mCLIPPER_APP_2_NAME\u001b[0m\u001b[0;34m,\u001b[0m \u001b[0mmodel_name\u001b[0m\u001b[0;34m=\u001b[0m\u001b[0mpytorch_model_name\u001b[0m\u001b[0;34m)\u001b[0m\u001b[0;34m\u001b[0m\u001b[0;34m\u001b[0m\u001b[0m\n\u001b[0m",
      "\u001b[0;32m~/Src/clipper/clipper_admin/clipper_admin/clipper_admin.py\u001b[0m in \u001b[0;36mlink_model_to_app\u001b[0;34m(self, app_name, model_name)\u001b[0m\n\u001b[1;32m    297\u001b[0m                 code=r.status_code, msg=r.text)\n\u001b[1;32m    298\u001b[0m             \u001b[0mself\u001b[0m\u001b[0;34m.\u001b[0m\u001b[0mlogger\u001b[0m\u001b[0;34m.\u001b[0m\u001b[0merror\u001b[0m\u001b[0;34m(\u001b[0m\u001b[0mmsg\u001b[0m\u001b[0;34m)\u001b[0m\u001b[0;34m\u001b[0m\u001b[0;34m\u001b[0m\u001b[0m\n\u001b[0;32m--> 299\u001b[0;31m             \u001b[0;32mraise\u001b[0m \u001b[0mClipperException\u001b[0m\u001b[0;34m(\u001b[0m\u001b[0mmsg\u001b[0m\u001b[0;34m)\u001b[0m\u001b[0;34m\u001b[0m\u001b[0;34m\u001b[0m\u001b[0m\n\u001b[0m\u001b[1;32m    300\u001b[0m         \u001b[0;32melse\u001b[0m\u001b[0;34m:\u001b[0m\u001b[0;34m\u001b[0m\u001b[0;34m\u001b[0m\u001b[0m\n\u001b[1;32m    301\u001b[0m             self.logger.info(\n",
      "\u001b[0;31mClipperException\u001b[0m: Received error status code: 400 and message: The model with name 'pytorch-alg-2' is already linked to 'test-app-2'"
     ]
    }
   ],
   "source": [
    "# Deploy PyTorch\n",
    "#create_clipper_application(CLIPPER_APP_2_NAME)\n",
    "pytorch_model_name = 'pytorch-alg-2'\n",
    "# Deploy to production but do not serve\n",
    "deploy_pytorch(clipper_connection, pytorch_model, name=pytorch_model_name, version=6)\n",
    "# Link and serve !\n",
    "clipper_connection.link_model_to_app(app_name=CLIPPER_APP_2_NAME, model_name=pytorch_model_name)"
   ]
  },
  {
   "cell_type": "code",
   "execution_count": 93,
   "metadata": {},
   "outputs": [
    {
     "data": {
      "text/plain": [
       "{'query_id': 0,\n",
       " 'output': -1.0,\n",
       " 'default': True,\n",
       " 'default_explanation': 'No connected models found for query'}"
      ]
     },
     "execution_count": 93,
     "metadata": {},
     "output_type": "execute_result"
    }
   ],
   "source": [
    "# Test Scikit Learn\n",
    "import requests, json, numpy as np\n",
    "headers = {\"Content-type\": \"application/json\"}\n",
    "requests.post(\"http://fabio.service.consul:9999/clipper/{app_name}/predict\".format(app_name=CLIPPER_APP_1_NAME), headers=headers, data=json.dumps({\"input\": list(np.random.random(10))})).json()"
   ]
  },
  {
   "cell_type": "code",
   "execution_count": 131,
   "metadata": {},
   "outputs": [
    {
     "data": {
      "text/plain": [
       "{'query_id': 10, 'output': [150.98452758789062], 'default': False}"
      ]
     },
     "execution_count": 131,
     "metadata": {},
     "output_type": "execute_result"
    }
   ],
   "source": [
    "# Test PyTorch\n",
    "import requests, json, numpy as np\n",
    "headers = {\"Content-type\": \"application/json\"}\n",
    "requests.post(\"http://fabio.service.consul:9999/clipper/{app_name}/predict\".format(app_name=CLIPPER_APP_2_NAME), headers=headers, data=json.dumps({\"input\": list(np.random.random(10))})).json()"
   ]
  }
 ],
 "metadata": {
  "kernelspec": {
   "display_name": "Python 3",
   "language": "python",
   "name": "python3"
  },
  "language_info": {
   "codemirror_mode": {
    "name": "ipython",
    "version": 3
   },
   "file_extension": ".py",
   "mimetype": "text/x-python",
   "name": "python",
   "nbconvert_exporter": "python",
   "pygments_lexer": "ipython3",
   "version": "3.7.3"
  }
 },
 "nbformat": 4,
 "nbformat_minor": 2
}
